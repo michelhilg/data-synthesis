{
 "cells": [
  {
   "attachments": {},
   "cell_type": "markdown",
   "metadata": {},
   "source": [
    "# Augmentation Pipeline"
   ]
  },
  {
   "attachments": {},
   "cell_type": "markdown",
   "metadata": {},
   "source": [
    "Augmentation pipeline was redefine as a .py file, available on:\n",
    "\n",
    "/home/operation/data_synthesis_michel_bt/src/data/augmentation.py"
   ]
  },
  {
   "cell_type": "markdown",
   "metadata": {},
   "source": [
    "## Step 1 - Import Dependencies"
   ]
  },
  {
   "cell_type": "code",
   "execution_count": 2,
   "metadata": {},
   "outputs": [
    {
     "name": "stderr",
     "output_type": "stream",
     "text": [
      "/home/operation/miniconda3/envs/ds_bt_1/lib/python3.10/site-packages/tqdm/auto.py:22: TqdmWarning: IProgress not found. Please update jupyter and ipywidgets. See https://ipywidgets.readthedocs.io/en/stable/user_install.html\n",
      "  from .autonotebook import tqdm as notebook_tqdm\n"
     ]
    }
   ],
   "source": [
    "from PIL import Image\n",
    "import torchvision.transforms as transforms\n",
    "import os\n",
    "from PIL import Image\n",
    "import pandas as pd\n",
    "import torch\n",
    "from torch import permute\n",
    "from torch.utils.data import Dataset\n",
    "from torchvision.utils import save_image\n",
    "import matplotlib.pyplot as plt\n",
    "import numpy as np\n",
    "from class_labels_generator import labels_generator\n",
    "from labels_generator import generate_csv\n",
    "from custom_dataset import CustomDataset"
   ]
  },
  {
   "attachments": {},
   "cell_type": "markdown",
   "metadata": {},
   "source": [
    "## Step 2 - Augmentation Pipeline"
   ]
  },
  {
   "cell_type": "code",
   "execution_count": null,
   "metadata": {},
   "outputs": [],
   "source": [
    "aug_transforms = transforms.Compose([\n",
    "    transforms.RandomHorizontalFlip(p=0.5),\n",
    "    transforms.RandomVerticalFlip(p=0.5),\n",
    "    transforms.RandomChoice([transforms.RandomRotation((0, 0)), \n",
    "                             transforms.RandomRotation((90, 90)), \n",
    "                             transforms.RandomRotation((180, 180)), \n",
    "                             transforms.RandomRotation((270, 270))]),\n",
    "    transforms.RandomApply([transforms.ColorJitter(brightness=((0.25, 1.75)))], p=0.75),\n",
    "    transforms.RandomApply([transforms.ColorJitter(contrast=((0.25, 1.75)))], p=0.75),\n",
    "    transforms.RandomApply([transforms.ColorJitter(saturation=((0.25, 1.75)))], p=0.75),\n",
    "    transforms.RandomApply([transforms.GaussianBlur(kernel_size=(3, 3), sigma=(0.1, 2.0))], p=0.25)])"
   ]
  },
  {
   "cell_type": "code",
   "execution_count": 1,
   "metadata": {},
   "outputs": [],
   "source": [
    "discrete_class = {1 : \"0_punching_hole\",\n",
    "                  2 : \"1_welding_line\",\n",
    "                  3 : \"2_crescent_gap\",\n",
    "                  4 : \"3_water_spot\",\n",
    "                  5 : \"4_oil_spot\",\n",
    "                  6 : \"5_silk_spot\",\n",
    "                  7 : \"6_inclusion\",\n",
    "                  8 : \"7_rolled_pit\",\n",
    "                  9 : \"8_crease\",\n",
    "                  10 : \"9_waist_folding\"}"
   ]
  },
  {
   "cell_type": "code",
   "execution_count": null,
   "metadata": {},
   "outputs": [],
   "source": [
    "labels_file = []\n",
    "root_dir = []\n",
    "datasets = []\n",
    "\n",
    "for i in range(1,11):\n",
    "    labels_file.append('../gc10-det/02_raw_train/' + discrete_class[i] + '.csv')\n",
    "    root_dir.append('../gc10-det/02_raw_train/images/' + discrete_class[i])\n",
    "    datasets.append(CustomDataset(labels_file=labels_file[i-1], root_dir=root_dir[i-1]))"
   ]
  },
  {
   "attachments": {},
   "cell_type": "markdown",
   "metadata": {},
   "source": [
    "## Step 3 - Visualizing the Results"
   ]
  },
  {
   "cell_type": "code",
   "execution_count": null,
   "metadata": {},
   "outputs": [],
   "source": [
    "for i in range(0, 10):\n",
    "    \n",
    "    index = np.random.randint(datasets[i].__len__())\n",
    "    image_ori, label = datasets[i].__getitem__(index)\n",
    "\n",
    "    image_aug = aug_transforms(image_ori)\n",
    "\n",
    "    fig = plt.figure(figsize=(8, 8))\n",
    "    fig.add_subplot(1,2,1)\n",
    "    plt.imshow(image_ori, cmap='gray')\n",
    "    plt.title(f'{discrete_class[int(label)+1]} - Original')\n",
    "    \n",
    "    fig.add_subplot(1,2,2)\n",
    "    plt.imshow(image_aug, cmap='gray')\n",
    "    plt.title(f'{discrete_class[int(label)+1]} - Augmented')"
   ]
  },
  {
   "cell_type": "markdown",
   "metadata": {},
   "source": [
    "## Step 4 - Saving Augmented Images"
   ]
  },
  {
   "cell_type": "code",
   "execution_count": null,
   "metadata": {},
   "outputs": [],
   "source": [
    "def applyAugmentation(dataset, root_path, aug_tranforms, to_tensor, num_instances):\n",
    "    \"\"\"Apply augmentation until match a defined number of instances in each class\"\"\"\n",
    "    img_num = 0\n",
    "    for _ in range(num_instances // dataset.__len__()):\n",
    "        for image, label in dataset:\n",
    "            image = aug_tranforms(image)\n",
    "            image = to_tensor(image)\n",
    "            if img_num < (num_instances-dataset.__len__()):\n",
    "                save_image(image, os.path.join(root_path, dataset.__getlabel__(0),'img_augmented_'+str(img_num)+'.jpg'))\n",
    "                img_num += 1\n",
    "            else:\n",
    "                break\n",
    "    return print('Done!')"
   ]
  },
  {
   "cell_type": "code",
   "execution_count": null,
   "metadata": {},
   "outputs": [],
   "source": [
    "to_tensor = transforms.ToTensor()\n",
    "root_path = '../gc10-det/03_augmented/1000/images/'\n",
    "num_instances = 1000\n",
    "\n",
    "for i in range(10):\n",
    "    applyAugmentation(datasets[i], root_path, aug_transforms, to_tensor, num_instances)"
   ]
  },
  {
   "cell_type": "code",
   "execution_count": null,
   "metadata": {},
   "outputs": [],
   "source": [
    "augmented_path = '../gc10-det/03_augmented/1000/'\n",
    "\n",
    "# Saving complete labels\n",
    "generate_csv(augmented_path)\n",
    "\n",
    "# Saving class labels\n",
    "labels_generator(augmented_path)"
   ]
  },
  {
   "attachments": {},
   "cell_type": "markdown",
   "metadata": {},
   "source": [
    "## Step 5 - Check the Class Distribution"
   ]
  },
  {
   "cell_type": "code",
   "execution_count": 3,
   "metadata": {},
   "outputs": [
    {
     "data": {
      "text/html": [
       "<div>\n",
       "<style scoped>\n",
       "    .dataframe tbody tr th:only-of-type {\n",
       "        vertical-align: middle;\n",
       "    }\n",
       "\n",
       "    .dataframe tbody tr th {\n",
       "        vertical-align: top;\n",
       "    }\n",
       "\n",
       "    .dataframe thead th {\n",
       "        text-align: right;\n",
       "    }\n",
       "</style>\n",
       "<table border=\"1\" class=\"dataframe\">\n",
       "  <thead>\n",
       "    <tr style=\"text-align: right;\">\n",
       "      <th></th>\n",
       "      <th>Image</th>\n",
       "      <th>Class</th>\n",
       "      <th>DiscreteClass</th>\n",
       "    </tr>\n",
       "  </thead>\n",
       "  <tbody>\n",
       "    <tr>\n",
       "      <th>0</th>\n",
       "      <td>img_augmented_361.jpg</td>\n",
       "      <td>0_punching_hole</td>\n",
       "      <td>0</td>\n",
       "    </tr>\n",
       "    <tr>\n",
       "      <th>1</th>\n",
       "      <td>img_augmented_282.jpg</td>\n",
       "      <td>0_punching_hole</td>\n",
       "      <td>0</td>\n",
       "    </tr>\n",
       "    <tr>\n",
       "      <th>2</th>\n",
       "      <td>img_augmented_605.jpg</td>\n",
       "      <td>0_punching_hole</td>\n",
       "      <td>0</td>\n",
       "    </tr>\n",
       "    <tr>\n",
       "      <th>3</th>\n",
       "      <td>img_augmented_671.jpg</td>\n",
       "      <td>0_punching_hole</td>\n",
       "      <td>0</td>\n",
       "    </tr>\n",
       "    <tr>\n",
       "      <th>4</th>\n",
       "      <td>img_augmented_162.jpg</td>\n",
       "      <td>0_punching_hole</td>\n",
       "      <td>0</td>\n",
       "    </tr>\n",
       "    <tr>\n",
       "      <th>...</th>\n",
       "      <td>...</td>\n",
       "      <td>...</td>\n",
       "      <td>...</td>\n",
       "    </tr>\n",
       "    <tr>\n",
       "      <th>9995</th>\n",
       "      <td>img_augmented_195.jpg</td>\n",
       "      <td>9_waist_folding</td>\n",
       "      <td>9</td>\n",
       "    </tr>\n",
       "    <tr>\n",
       "      <th>9996</th>\n",
       "      <td>img_augmented_30.jpg</td>\n",
       "      <td>9_waist_folding</td>\n",
       "      <td>9</td>\n",
       "    </tr>\n",
       "    <tr>\n",
       "      <th>9997</th>\n",
       "      <td>img_augmented_703.jpg</td>\n",
       "      <td>9_waist_folding</td>\n",
       "      <td>9</td>\n",
       "    </tr>\n",
       "    <tr>\n",
       "      <th>9998</th>\n",
       "      <td>img_augmented_498.jpg</td>\n",
       "      <td>9_waist_folding</td>\n",
       "      <td>9</td>\n",
       "    </tr>\n",
       "    <tr>\n",
       "      <th>9999</th>\n",
       "      <td>img_augmented_28.jpg</td>\n",
       "      <td>9_waist_folding</td>\n",
       "      <td>9</td>\n",
       "    </tr>\n",
       "  </tbody>\n",
       "</table>\n",
       "<p>10000 rows × 3 columns</p>\n",
       "</div>"
      ],
      "text/plain": [
       "                      Image            Class  DiscreteClass\n",
       "0     img_augmented_361.jpg  0_punching_hole              0\n",
       "1     img_augmented_282.jpg  0_punching_hole              0\n",
       "2     img_augmented_605.jpg  0_punching_hole              0\n",
       "3     img_augmented_671.jpg  0_punching_hole              0\n",
       "4     img_augmented_162.jpg  0_punching_hole              0\n",
       "...                     ...              ...            ...\n",
       "9995  img_augmented_195.jpg  9_waist_folding              9\n",
       "9996   img_augmented_30.jpg  9_waist_folding              9\n",
       "9997  img_augmented_703.jpg  9_waist_folding              9\n",
       "9998  img_augmented_498.jpg  9_waist_folding              9\n",
       "9999   img_augmented_28.jpg  9_waist_folding              9\n",
       "\n",
       "[10000 rows x 3 columns]"
      ]
     },
     "execution_count": 3,
     "metadata": {},
     "output_type": "execute_result"
    }
   ],
   "source": [
    "# Reading the .csv labels file\n",
    "data = pd.read_csv('../gc10-det/03_augmented/1000/labels.csv', header=None)\n",
    "data.columns = ['Image', 'Class', 'DiscreteClass']\n",
    "data"
   ]
  },
  {
   "cell_type": "code",
   "execution_count": 4,
   "metadata": {},
   "outputs": [
    {
     "data": {
      "text/plain": [
       "<AxesSubplot:title={'center':'Class Distribution'}>"
      ]
     },
     "execution_count": 4,
     "metadata": {},
     "output_type": "execute_result"
    },
    {
     "data": {
      "image/png": "[encoded data removed]",
      "text/plain": [
       "<Figure size 1080x216 with 1 Axes>"
      ]
     },
     "metadata": {
      "needs_background": "light"
     },
     "output_type": "display_data"
    }
   ],
   "source": [
    "#Checking the Class Distribution\n",
    "data[\"Class\"].value_counts().plot(kind='barh', title='Class Distribution', figsize=(15,3))"
   ]
  },
  {
   "cell_type": "code",
   "execution_count": null,
   "metadata": {},
   "outputs": [],
   "source": []
  }
 ],
 "metadata": {
  "kernelspec": {
   "display_name": "ds_bt_1",
   "language": "python",
   "name": "python3"
  },
  "language_info": {
   "codemirror_mode": {
    "name": "ipython",
    "version": 3
   },
   "file_extension": ".py",
   "mimetype": "text/x-python",
   "name": "python",
   "nbconvert_exporter": "python",
   "pygments_lexer": "ipython3",
   "version": "3.10.4"
  },
  "vscode": {
   "interpreter": {
    "hash": "9540a79c8f4ad311de3552ea9b30a698d4beffab712fced2c9e379c2661abe1a"
   }
  }
 },
 "nbformat": 4,
 "nbformat_minor": 2
}
