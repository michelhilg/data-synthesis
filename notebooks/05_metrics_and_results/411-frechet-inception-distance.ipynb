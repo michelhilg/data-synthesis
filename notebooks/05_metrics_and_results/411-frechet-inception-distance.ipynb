{
 "cells": [
  {
   "attachments": {},
   "cell_type": "markdown",
   "metadata": {},
   "source": [
    "# Image Quality Quantitative Metrics - Fréchet Inception Distance (FID)\n",
    "\n",
    "## Implementation Details\n",
    "\n",
    "The purpose of this notebook is to detail about the FID metric implementation for quantitative evaluation of the synthetic image quality as outlined in sections 3.5.1 and 4.1.1 of the bachelor thesis.\n",
    "\n",
    "The code in this notebook incorporates the following sources as references:\n",
    "\n",
    "- https://github.com/mseitzer/pytorch-fid"
   ]
  },
  {
   "attachments": {},
   "cell_type": "markdown",
   "metadata": {},
   "source": [
    "## Note\n",
    "\n",
    "The implementation of FID using PyTorch framework has some limitations, primarily because the benchmark for FID metric is defined within the TensorFlow framework.\n",
    "\n",
    "However, the GiHub [PyTorch-FID](https://github.com/mseitzer/pytorch-fid) offers a definition that closely aligns with the TensorFlow results. It is widely recognized as one of the most popular PyTorch applications for FID.\n",
    "\n",
    "This thesis follows the FID defined in the GitHub mentioned above, working as a library that execute the commands over terminal to computes the FID values.\n",
    "\n",
    "Th following cell highlight the process of installing and using the library."
   ]
  },
  {
   "attachments": {},
   "cell_type": "markdown",
   "metadata": {},
   "source": [
    "## Instructions to Computer the FID\n",
    "\n",
    "### Installation\n",
    "\n",
    "Install from pip:\n",
    "\n",
    "```\n",
    "pip install pytorch-fid\n",
    "```\n",
    "\n",
    "### Requirements\n",
    "\n",
    "- python3\n",
    "- pytorch\n",
    "- torchvision\n",
    "- pillow\n",
    "- numpy\n",
    "- scipy\n",
    "\n",
    "### Usage\n",
    "\n",
    "To compute the FID score between two datasets, where images of each dataset are contained in an individual folder:\n",
    "\n",
    "````\n",
    "python -m pytorch_fid path/to/dataset1 path/to/dataset2\n"
   ]
  }
 ],
 "metadata": {
  "kernelspec": {
   "display_name": "Python 3",
   "language": "python",
   "name": "python3"
  },
  "language_info": {
   "codemirror_mode": {
    "name": "ipython",
    "version": 3
   },
   "file_extension": ".py",
   "mimetype": "text/x-python",
   "name": "python",
   "nbconvert_exporter": "python",
   "pygments_lexer": "ipython3",
   "version": "3.9.6"
  },
  "orig_nbformat": 4
 },
 "nbformat": 4,
 "nbformat_minor": 2
}
